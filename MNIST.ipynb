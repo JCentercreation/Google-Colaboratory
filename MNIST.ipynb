{
  "nbformat": 4,
  "nbformat_minor": 0,
  "metadata": {
    "colab": {
      "name": "MNIST.ipynb",
      "provenance": [],
      "authorship_tag": "ABX9TyOjNOT09rDwJw625MJDzPb9",
      "include_colab_link": true
    },
    "kernelspec": {
      "name": "python3",
      "display_name": "Python 3"
    }
  },
  "cells": [
    {
      "cell_type": "markdown",
      "metadata": {
        "id": "view-in-github",
        "colab_type": "text"
      },
      "source": [
        "<a href=\"https://colab.research.google.com/github/JCentercreation/Google-Colaboratory/blob/main/MNIST.ipynb\" target=\"_parent\"><img src=\"https://colab.research.google.com/assets/colab-badge.svg\" alt=\"Open In Colab\"/></a>"
      ]
    },
    {
      "cell_type": "code",
      "metadata": {
        "colab": {
          "base_uri": "https://localhost:8080/",
          "height": 895
        },
        "id": "j60E6HFv1Si5",
        "outputId": "ee993758-a650-41d1-fd89-eacd732e268b"
      },
      "source": [
        "import tensorflow as tf\n",
        "print(tf.__version__)\n",
        "import numpy as np\n",
        "print(np.__version__)\n",
        "import keras\n",
        "print(keras.__version__)\n",
        "import matplotlib.pyplot as plt\n",
        "\n",
        "mnist = tf.keras.datasets.mnist\n",
        "(x_train, y_train), (x_test, y_test) = mnist.load_data()\n",
        "plt.imshow(x_train[8], cmap = plt.cm.binary)\n",
        "print(\"\\n\")\n",
        "print(\"\\n\")\n",
        "\n",
        "print(\"NORMALIZACION DE LOS TENSORES\")\n",
        "print(y_train[8])\n",
        "print(x_train.ndim) \n",
        "print(x_train.shape) #Nos indica que el tensor esta formado por 60000 matrices, cada una de ellas de 28 x 28\n",
        "print(x_train.size)\n",
        "print(x_train.dtype)\n",
        "print(x_train[0, 16, :]) #Pedimos que muestre de la matriz 0 (la primera) todos los elementos de la fila 17\n",
        "x_train = x_train.astype('float32') #Normalizamos la matriz a float32\n",
        "print(x_train.dtype)\n",
        "print(x_train[0, 16, :])\n",
        "x_train = x_train.reshape(60000, 784) #Cambianos la forma del tensor y pasamos a un tensor 2D\n",
        "x_test = x_test.astype('float32')\n",
        "x_test = x_test.reshape(10000, 784)\n",
        "print(\"\\n\")\n",
        "print(\"\\n\")\n",
        "\n",
        "\n",
        "print(\"TRANSFORMACION DEL TENSOR\")\n",
        "print(y_test[0])\n",
        "print(y_test.shape)\n",
        "print(y_train[0])\n",
        "print(y_train.shape)\n",
        "from tensorflow.keras.utils import to_categorical\n",
        "y_test = to_categorical(y_test, num_classes = 10) #Pasamos los escalares a un vector de 0 y1\n",
        "y_train = to_categorical(y_train, num_classes = 10)\n",
        "print(y_test.shape)\n",
        "print(y_train.shape)\n",
        "print(y_test[0])\n",
        "print(y_train[0])\n",
        "print(\"\\n\")\n",
        "print(\"\\n\")\n"
      ],
      "execution_count": 19,
      "outputs": [
        {
          "output_type": "stream",
          "text": [
            "2.3.0\n",
            "1.18.5\n",
            "2.4.3\n",
            "\n",
            "\n",
            "\n",
            "\n",
            "NORMALIZACION DE LOS TENSORES\n",
            "1\n",
            "3\n",
            "(60000, 28, 28)\n",
            "47040000\n",
            "uint8\n",
            "[  0   0   0   0   0   0   0   0   0   0   0   0   0   0   0  16  93 252\n",
            " 253 187   0   0   0   0   0   0   0   0]\n",
            "float32\n",
            "[  0.   0.   0.   0.   0.   0.   0.   0.   0.   0.   0.   0.   0.   0.\n",
            "   0.  16.  93. 252. 253. 187.   0.   0.   0.   0.   0.   0.   0.   0.]\n",
            "\n",
            "\n",
            "\n",
            "\n",
            "TRANSFORMACION DEL TENSOR\n",
            "7\n",
            "(10000,)\n",
            "5\n",
            "(60000,)\n",
            "(10000, 10)\n",
            "(60000, 10)\n",
            "[0. 0. 0. 0. 0. 0. 0. 1. 0. 0.]\n",
            "[0. 0. 0. 0. 0. 1. 0. 0. 0. 0.]\n",
            "\n",
            "\n",
            "\n",
            "\n"
          ],
          "name": "stdout"
        },
        {
          "output_type": "display_data",
          "data": {
            "image/png": "[encoded data removed]",
            "text/plain": [
              "<Figure size 432x288 with 1 Axes>"
            ]
          },
          "metadata": {
            "tags": [],
            "needs_background": "light"
          }
        }
      ]
    }
  ]
}