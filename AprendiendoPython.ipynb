{
  "nbformat": 4,
  "nbformat_minor": 0,
  "metadata": {
    "colab": {
      "name": "AprendiendoPython.ipynb",
      "provenance": [],
      "collapsed_sections": [],
      "authorship_tag": "ABX9TyM3B0AqquvDtHbsFKmuzNOI",
      "include_colab_link": true
    },
    "kernelspec": {
      "name": "python3",
      "display_name": "Python 3"
    }
  },
  "cells": [
    {
      "cell_type": "markdown",
      "metadata": {
        "id": "view-in-github",
        "colab_type": "text"
      },
      "source": [
        "<a href=\"https://colab.research.google.com/github/JCentercreation/Google-Colaboratory/blob/main/AprendiendoPython.ipynb\" target=\"_parent\"><img src=\"https://colab.research.google.com/assets/colab-badge.svg\" alt=\"Open In Colab\"/></a>"
      ]
    },
    {
      "cell_type": "markdown",
      "metadata": {
        "id": "Q13u1SVPlqQb"
      },
      "source": [
        "**DECLARACION DE VARIABLES**\n",
        "En Python no es necesario definir el tipo de variable \n",
        "que se trata pues Python le asignara automaticamente un tipo. Lo unico que tenemos que tener en cuenta es que las cadenas de caracteres deben de definirse entre comillas (\" \" o ` ').\n"
      ]
    },
    {
      "cell_type": "markdown",
      "metadata": {
        "id": "A7zQXwwGnXFg"
      },
      "source": [
        "No obstante, en cocasiones puede ser conveniente especificar el tipo de variable:\n"
      ]
    },
    {
      "cell_type": "code",
      "metadata": {
        "id": "7uNQAA_Dkbji",
        "outputId": "3be36c71-6490-4eb8-8fc1-6dd607b9f810",
        "colab": {
          "base_uri": "https://localhost:8080/"
        }
      },
      "source": [
        "a = 2\n",
        "b = 3\n",
        "c = a + b\n",
        "c"
      ],
      "execution_count": null,
      "outputs": [
        {
          "output_type": "execute_result",
          "data": {
            "text/plain": [
              "5"
            ]
          },
          "metadata": {
            "tags": []
          },
          "execution_count": 1
        }
      ]
    },
    {
      "cell_type": "markdown",
      "metadata": {
        "id": "uSrZudyyr1dz"
      },
      "source": [
        "**Aprende Python** - Curso completo para principiantes (freeCodeCamp.org) YOUTUBE"
      ]
    },
    {
      "cell_type": "code",
      "metadata": {
        "id": "FdVHrtFQrab0",
        "outputId": "1b14e741-0e30-4c3a-ccf1-59a8cf42c272",
        "colab": {
          "base_uri": "https://localhost:8080/"
        }
      },
      "source": [
        "print(\"Hello World\")"
      ],
      "execution_count": null,
      "outputs": [
        {
          "output_type": "stream",
          "text": [
            "Hello World\n"
          ],
          "name": "stdout"
        }
      ]
    },
    {
      "cell_type": "code",
      "metadata": {
        "id": "YeaiaEAxu3Dp",
        "outputId": "6fee1ea1-ad40-4aaa-b49b-dcf9941c239c",
        "colab": {
          "base_uri": "https://localhost:8080/"
        }
      },
      "source": [
        "name = \"Javi\"\n",
        "age = \"32\"\n",
        "male = True\n",
        "print(\"Hola mi nombre es \" + name + \" y tengo \" + age + \" años\")\n",
        "if male == True:\n",
        "  print(\"Soy un chico\")\n",
        "else:\n",
        "  print(\"Soy una chica\")"
      ],
      "execution_count": null,
      "outputs": [
        {
          "output_type": "stream",
          "text": [
            "Hola mi nombre es Javi y tengo 32 años\n",
            "Soy un chico\n"
          ],
          "name": "stdout"
        }
      ]
    },
    {
      "cell_type": "code",
      "metadata": {
        "id": "bFLU8wR4Su51",
        "outputId": "1c22ad81-cac3-4561-8427-f2560258f3e5",
        "colab": {
          "base_uri": "https://localhost:8080/"
        }
      },
      "source": [
        "print(\"Probando el salto\\ndelinea\")"
      ],
      "execution_count": null,
      "outputs": [
        {
          "output_type": "stream",
          "text": [
            "Probando el salto\n",
            "delinea\n"
          ],
          "name": "stdout"
        }
      ]
    },
    {
      "cell_type": "code",
      "metadata": {
        "id": "EAAbZlFAS5F1",
        "outputId": "49a42455-3a69-4908-837d-d87c49551334",
        "colab": {
          "base_uri": "https://localhost:8080/"
        }
      },
      "source": [
        "print(\"Probando introduccion de \\\"comillas\\\" como texto\")"
      ],
      "execution_count": null,
      "outputs": [
        {
          "output_type": "stream",
          "text": [
            "Probando introduccion de \"comillas\" como texto\n"
          ],
          "name": "stdout"
        }
      ]
    },
    {
      "cell_type": "code",
      "metadata": {
        "id": "kdb_NLLJTWi5",
        "outputId": "8c51badc-7973-4ad7-8276-423bd7697901",
        "colab": {
          "base_uri": "https://localhost:8080/",
          "height": 477
        }
      },
      "source": [
        "phrase = \"Javier\"\n",
        "print(phrase + \" es guay\")\n",
        "print(phrase.lower())\n",
        "print(phrase.upper())\n",
        "print(phrase.isupper())\n",
        "phrase2 = \"MARTA\"\n",
        "print(phrase2.isupper())\n",
        "print(phrase2.lower().islower())\n",
        "print(len(phrase2))\n",
        "len(phrase)\n",
        "print(phrase[0])\n",
        "print(phrase[1])\n",
        "print(phrase[2])\n",
        "print(phrase[3])\n",
        "print(phrase[4])\n",
        "print(phrase[5])\n",
        "print(phrase.index(\"J\"))\n",
        "print(phrase.index(\"a\"))\n",
        "print(phrase.index(\"j\")) #esto nos dara error porque distungue entre mayus y minus\n",
        "print(phrase.index(\"ier\"))"
      ],
      "execution_count": null,
      "outputs": [
        {
          "output_type": "stream",
          "text": [
            "Javier es guay\n",
            "javier\n",
            "JAVIER\n",
            "False\n",
            "True\n",
            "True\n",
            "5\n",
            "J\n",
            "a\n",
            "v\n",
            "i\n",
            "e\n",
            "r\n",
            "0\n",
            "1\n"
          ],
          "name": "stdout"
        },
        {
          "output_type": "error",
          "ename": "ValueError",
          "evalue": "ignored",
          "traceback": [
            "\u001b[0;31m---------------------------------------------------------------------------\u001b[0m",
            "\u001b[0;31mValueError\u001b[0m                                Traceback (most recent call last)",
            "\u001b[0;32m<ipython-input-25-f18bc8b4f725>\u001b[0m in \u001b[0;36m<module>\u001b[0;34m()\u001b[0m\n\u001b[1;32m     17\u001b[0m \u001b[0mprint\u001b[0m\u001b[0;34m(\u001b[0m\u001b[0mphrase\u001b[0m\u001b[0;34m.\u001b[0m\u001b[0mindex\u001b[0m\u001b[0;34m(\u001b[0m\u001b[0;34m\"J\"\u001b[0m\u001b[0;34m)\u001b[0m\u001b[0;34m)\u001b[0m\u001b[0;34m\u001b[0m\u001b[0;34m\u001b[0m\u001b[0m\n\u001b[1;32m     18\u001b[0m \u001b[0mprint\u001b[0m\u001b[0;34m(\u001b[0m\u001b[0mphrase\u001b[0m\u001b[0;34m.\u001b[0m\u001b[0mindex\u001b[0m\u001b[0;34m(\u001b[0m\u001b[0;34m\"a\"\u001b[0m\u001b[0;34m)\u001b[0m\u001b[0;34m)\u001b[0m\u001b[0;34m\u001b[0m\u001b[0;34m\u001b[0m\u001b[0m\n\u001b[0;32m---> 19\u001b[0;31m \u001b[0mprint\u001b[0m\u001b[0;34m(\u001b[0m\u001b[0mphrase\u001b[0m\u001b[0;34m.\u001b[0m\u001b[0mindex\u001b[0m\u001b[0;34m(\u001b[0m\u001b[0;34m\"j\"\u001b[0m\u001b[0;34m)\u001b[0m\u001b[0;34m)\u001b[0m \u001b[0;31m#esto nos dara error porque distungue entre mayus y minus\u001b[0m\u001b[0;34m\u001b[0m\u001b[0;34m\u001b[0m\u001b[0m\n\u001b[0m",
            "\u001b[0;31mValueError\u001b[0m: substring not found"
          ]
        }
      ]
    },
    {
      "cell_type": "code",
      "metadata": {
        "id": "3fgPlYizWKTW",
        "outputId": "5d97f8b1-df83-4158-e2d9-075c19ac5225",
        "colab": {
          "base_uri": "https://localhost:8080/"
        }
      },
      "source": [
        "phrase = \"Javier\"\n",
        "print(phrase.index(\"ier\")) #esto devolvera 3 pues \"ier\" comienza en la posicion 3 de la cadena de caracteres"
      ],
      "execution_count": null,
      "outputs": [
        {
          "output_type": "stream",
          "text": [
            "3\n"
          ],
          "name": "stdout"
        }
      ]
    },
    {
      "cell_type": "code",
      "metadata": {
        "id": "I4vISvxnjLI_",
        "outputId": "fb2afdcb-097f-42da-815c-6d29ad51512f",
        "colab": {
          "base_uri": "https://localhost:8080/"
        }
      },
      "source": [
        "phrase = \"Javier es guay\"\n",
        "print(phrase.replace(\"Javier\", \"Pepe\"))\n",
        "phrase = \"Pxtxtx\"\n",
        "print(phrase.replace(\"x\", \"a\"))"
      ],
      "execution_count": null,
      "outputs": [
        {
          "output_type": "stream",
          "text": [
            "Pepe es guay\n",
            "Patata\n"
          ],
          "name": "stdout"
        }
      ]
    },
    {
      "cell_type": "code",
      "metadata": {
        "id": "FpZwvkYerIVj",
        "outputId": "a4c7fbf3-c4d7-474c-b03a-bbf6484954d5",
        "colab": {
          "base_uri": "https://localhost:8080/"
        }
      },
      "source": [
        "print(10 % 3) #El operando % nos devuelve el resto de una division"
      ],
      "execution_count": null,
      "outputs": [
        {
          "output_type": "stream",
          "text": [
            "1\n"
          ],
          "name": "stdout"
        }
      ]
    },
    {
      "cell_type": "code",
      "metadata": {
        "id": "J3R1YX_WrwSf",
        "outputId": "7563e38e-65ea-4e49-889d-45a015036d27",
        "colab": {
          "base_uri": "https://localhost:8080/",
          "height": 189
        }
      },
      "source": [
        "num = 5\n",
        "print(num + \"es mi numero favorito\") #esto va a dar error porque las concatenaciones se tienen que realizar dntre variables de tipo string, y num no es una string"
      ],
      "execution_count": null,
      "outputs": [
        {
          "output_type": "error",
          "ename": "TypeError",
          "evalue": "ignored",
          "traceback": [
            "\u001b[0;31m---------------------------------------------------------------------------\u001b[0m",
            "\u001b[0;31mTypeError\u001b[0m                                 Traceback (most recent call last)",
            "\u001b[0;32m<ipython-input-38-7c8dc1c36c2d>\u001b[0m in \u001b[0;36m<module>\u001b[0;34m()\u001b[0m\n\u001b[1;32m      1\u001b[0m \u001b[0mnum\u001b[0m \u001b[0;34m=\u001b[0m \u001b[0;36m5\u001b[0m\u001b[0;34m\u001b[0m\u001b[0;34m\u001b[0m\u001b[0m\n\u001b[0;32m----> 2\u001b[0;31m \u001b[0mprint\u001b[0m\u001b[0;34m(\u001b[0m\u001b[0mnum\u001b[0m \u001b[0;34m+\u001b[0m \u001b[0;34m\"es mi numero favorito\"\u001b[0m\u001b[0;34m)\u001b[0m\u001b[0;34m\u001b[0m\u001b[0;34m\u001b[0m\u001b[0m\n\u001b[0m",
            "\u001b[0;31mTypeError\u001b[0m: unsupported operand type(s) for +: 'int' and 'str'"
          ]
        }
      ]
    },
    {
      "cell_type": "code",
      "metadata": {
        "id": "s5ZZmEwBsIjV",
        "outputId": "061ec7a2-cac2-49c3-d814-603994cf5938",
        "colab": {
          "base_uri": "https://localhost:8080/"
        }
      },
      "source": [
        "num = -5\n",
        "print(str(num) + \" es mi numero favorito\")\n",
        "print(abs(num))\n",
        "print(pow(num, 2))\n",
        "print(pow(num, 3))\n",
        "print(max(num, 3))\n",
        "print(min(num, 3))\n",
        "num = 3.897\n",
        "print(round(num))\n",
        "print(round(2.112))"
      ],
      "execution_count": null,
      "outputs": [
        {
          "output_type": "stream",
          "text": [
            "-5 es mi numero favorito\n",
            "5\n",
            "25\n",
            "-125\n",
            "3\n",
            "-5\n",
            "4\n",
            "2\n"
          ],
          "name": "stdout"
        }
      ]
    },
    {
      "cell_type": "code",
      "metadata": {
        "id": "8MOfvHImvNFU",
        "outputId": "e1656c03-3f57-4a89-bcb1-b9bd2cfe44d6",
        "colab": {
          "base_uri": "https://localhost:8080/"
        }
      },
      "source": [
        "from math import * #de esta forma se importa la biblioteca \"math\" (funciones matematicas)\n",
        "\n",
        "num = 3.8\n",
        "print(floor(num)) #esta funcion elimina los decimales, pero no redondea\n",
        "print(ceil(num)) #esta funcion elimina los decimales pero redondeando hacia arriba siempre\n",
        "print(ceil(3.01))\n",
        "print(ceil(-2.9))\n",
        "print(sqrt(25))"
      ],
      "execution_count": null,
      "outputs": [
        {
          "output_type": "stream",
          "text": [
            "3\n",
            "4\n",
            "4\n",
            "-2\n",
            "5.0\n"
          ],
          "name": "stdout"
        }
      ]
    },
    {
      "cell_type": "markdown",
      "metadata": {
        "id": "VbWVbzOk8z5W"
      },
      "source": [
        " **INTRODUCIENDO DATOS POR PARTE DEL USUARIO**"
      ]
    },
    {
      "cell_type": "code",
      "metadata": {
        "id": "iRmB2RZJ9HVL",
        "outputId": "a0a6f682-04ef-41a5-fc2c-6c646026128e",
        "colab": {
          "base_uri": "https://localhost:8080/"
        }
      },
      "source": [
        "name = input(\"Hola, como te llamas?\")\n",
        "print(\"Hola \" + name)\n",
        "age = input(\"Cual es tu edad?\")  #ojo porque los inputs del usuario se almacenan como strings\n",
        "print(\"Te llamas \" + name + \" y tienes \" + age)\n",
        "int(age) + 10 #de esta forma convertimos el string en un numero\n"
      ],
      "execution_count": null,
      "outputs": [
        {
          "output_type": "stream",
          "text": [
            "Hola, como te llamas?Javier\n",
            "Hola Javier\n",
            "Cual es tu edad?32\n",
            "Te llamas Javier y tienes 32\n"
          ],
          "name": "stdout"
        },
        {
          "output_type": "execute_result",
          "data": {
            "text/plain": [
              "42"
            ]
          },
          "metadata": {
            "tags": []
          },
          "execution_count": 10
        }
      ]
    },
    {
      "cell_type": "markdown",
      "metadata": {
        "id": "eJPUG6zFAs6c"
      },
      "source": [
        "Mad Libs Game"
      ]
    },
    {
      "cell_type": "code",
      "metadata": {
        "id": "ZHCh92yOAvpe",
        "outputId": "911b2584-5df9-4959-a575-2e068e0cf556",
        "colab": {
          "base_uri": "https://localhost:8080/"
        }
      },
      "source": [
        "name = input(\"Introduce un nombre \")\n",
        "colour = input(\"Introduce un color\")\n",
        "plural = input(\"Introduce un nombre plural\")\n",
        "\n",
        "print(plural + \" are red\")\n",
        "print(\"roses are \" +  colour)\n",
        "print(name + \" loves you\")"
      ],
      "execution_count": null,
      "outputs": [
        {
          "output_type": "stream",
          "text": [
            "Introduce un nombre Ariana Grande\n",
            "Introduce un colorAmarillo\n",
            "Introduce un nombre pluralTostadoras\n",
            "Tostadoras are red\n",
            "roses are Amarillo\n",
            "Ariana Grande loves you\n"
          ],
          "name": "stdout"
        }
      ]
    },
    {
      "cell_type": "markdown",
      "metadata": {
        "id": "xWedTMMPB0xW"
      },
      "source": [
        "**LISTAS**"
      ]
    },
    {
      "cell_type": "code",
      "metadata": {
        "id": "oSrdmtTSB20H",
        "outputId": "80df9ae3-2efe-4778-d5e1-d2ff7b1ddf3b",
        "colab": {
          "base_uri": "https://localhost:8080/"
        }
      },
      "source": [
        "amigos = [\"Amador\", \"Fernando\", \"Carmen\"]\n",
        "usuario = [\"Javi\", 32, True]\n",
        "print(amigos[0])\n",
        "print(usuario[2])\n",
        "print(usuario[-1])\n",
        "print(amigos[-2])\n",
        "print(amigos[0:2]) #delimita el rango [ : ) de la lista\n",
        "print(amigos[0:]) #solicita mostrar todos los elementos de la lista\n",
        "amigos[1] = input(\"Dime el nombre\") #modificando una lista\n",
        "print(amigos[0:])\n",
        "nuevos_amigos = [\"Laura\", \"George\"]\n",
        "amigos.extend(nuevos_amigos) #sirve para unir dos listas\n",
        "print(amigos)\n",
        "amigos.append(input(\"Dime el nombre del nuevo amigo\")) #añade un nuevo item al final de una lista\n",
        "print(amigos[0:])\n",
        "amigos.insert(1, input(\"Dime el nombre de tu segundo (posicion 2) amejor amigo\")) #sirve para insertar un nuevo item pero esta vez en la psicion de la lista que nosotros queramos\n",
        "print(amigos[0:])\n",
        "amigos.remove(input(\"Dime el nombre del amigo que quieres eliminar\")) #sirve para eliminar el item de la lista que nosotros queramos\n",
        "print(amigos[0:])\n",
        "amigos.pop() #sirve para eliminar el ultimo item de la lista\n",
        "print(amigos[0:])\n",
        "print(amigos.index(input(\"Dime el nombre del amigo y te digo la posicion en la lista\"))) #devuelve la posicion en la lista del item que le digamos\n",
        "print(amigos.count(input(\"Dime el nombre de un amigo y te digo cuantas veces aparece en la lista\"))) #nos dice el numero de veces que se repite un item en la lista\n",
        "amigos.sort() #sirve para ordenar alfabeticament/o de menor a mayor una lista\n",
        "print(amigos[0:])\n",
        "amigos.reverse() #sirve para ordenar de mayor a menor una lista\n",
        "print(amigos[0:])\n",
        "amigos2 = amigos.copy()\n",
        "print(amigos2[0:])\n",
        "amigos.clear() #sirve para eliminar TODOS los items de una lista\n",
        "print(amigos[0:])"
      ],
      "execution_count": null,
      "outputs": [
        {
          "output_type": "stream",
          "text": [
            "Amador\n",
            "True\n",
            "True\n",
            "Fernando\n",
            "['Amador', 'Fernando']\n",
            "['Amador', 'Fernando', 'Carmen']\n",
            "Dime el nombreAmador\n",
            "['Amador', 'Amador', 'Carmen']\n",
            "['Amador', 'Amador', 'Carmen', 'Laura', 'George']\n",
            "Dime el nombre del nuevo amigoAmador\n",
            "['Amador', 'Amador', 'Carmen', 'Laura', 'George', 'Amador']\n",
            "Dime el nombre de tu segundo (posicion 2) amejor amigoAmador\n",
            "['Amador', 'Amador', 'Amador', 'Carmen', 'Laura', 'George', 'Amador']\n",
            "Dime el nombre del amigo que quieres eliminarCarmen\n",
            "['Amador', 'Amador', 'Amador', 'Laura', 'George', 'Amador']\n",
            "['Amador', 'Amador', 'Amador', 'Laura', 'George']\n",
            "Dime el nombre del amigo y te digo la posicion en la listaAmador\n",
            "0\n",
            "Dime el nombre de un amigo y te digo cuantas veces aparece en la listaAmador\n",
            "3\n",
            "['Amador', 'Amador', 'Amador', 'George', 'Laura']\n",
            "['Laura', 'George', 'Amador', 'Amador', 'Amador']\n",
            "['Laura', 'George', 'Amador', 'Amador', 'Amador']\n",
            "[]\n"
          ],
          "name": "stdout"
        }
      ]
    },
    {
      "cell_type": "markdown",
      "metadata": {
        "id": "QUiopx-NKYHi"
      },
      "source": [
        "**TUPLAS (ESTRUCTURA DE DATOS)**"
      ]
    },
    {
      "cell_type": "code",
      "metadata": {
        "id": "-IpHrmF7KeEw",
        "outputId": "8fb8149f-d07a-4599-e874-a3560fa03b53",
        "colab": {
          "base_uri": "https://localhost:8080/",
          "height": 243
        }
      },
      "source": [
        "coordenadas = (3, 89) #a diferencia de las listas, las tuplas no se pueden modificar una vez se crean\n",
        "print(coordenadas[0])\n",
        "print(coordenadas[1])\n",
        "coordenadas[1] = 23 #Si intentamos asignar un nuevo valor a una entrada de la tupla nos dara error"
      ],
      "execution_count": null,
      "outputs": [
        {
          "output_type": "stream",
          "text": [
            "3\n",
            "89\n"
          ],
          "name": "stdout"
        },
        {
          "output_type": "error",
          "ename": "TypeError",
          "evalue": "ignored",
          "traceback": [
            "\u001b[0;31m---------------------------------------------------------------------------\u001b[0m",
            "\u001b[0;31mTypeError\u001b[0m                                 Traceback (most recent call last)",
            "\u001b[0;32m<ipython-input-3-f1196998e888>\u001b[0m in \u001b[0;36m<module>\u001b[0;34m()\u001b[0m\n\u001b[1;32m      2\u001b[0m \u001b[0mprint\u001b[0m\u001b[0;34m(\u001b[0m\u001b[0mcoordenadas\u001b[0m\u001b[0;34m[\u001b[0m\u001b[0;36m0\u001b[0m\u001b[0;34m]\u001b[0m\u001b[0;34m)\u001b[0m\u001b[0;34m\u001b[0m\u001b[0;34m\u001b[0m\u001b[0m\n\u001b[1;32m      3\u001b[0m \u001b[0mprint\u001b[0m\u001b[0;34m(\u001b[0m\u001b[0mcoordenadas\u001b[0m\u001b[0;34m[\u001b[0m\u001b[0;36m1\u001b[0m\u001b[0;34m]\u001b[0m\u001b[0;34m)\u001b[0m\u001b[0;34m\u001b[0m\u001b[0;34m\u001b[0m\u001b[0m\n\u001b[0;32m----> 4\u001b[0;31m \u001b[0mcoordenadas\u001b[0m\u001b[0;34m[\u001b[0m\u001b[0;36m1\u001b[0m\u001b[0;34m]\u001b[0m \u001b[0;34m=\u001b[0m \u001b[0;36m23\u001b[0m \u001b[0;31m#Si intentamos asignar un nuevo valor a una entrada de la tupla nos dara error\u001b[0m\u001b[0;34m\u001b[0m\u001b[0;34m\u001b[0m\u001b[0m\n\u001b[0m",
            "\u001b[0;31mTypeError\u001b[0m: 'tuple' object does not support item assignment"
          ]
        }
      ]
    },
    {
      "cell_type": "code",
      "metadata": {
        "id": "nk-G1DztMMVt",
        "outputId": "b97c70e2-e04d-483c-f527-117ab8327f73",
        "colab": {
          "base_uri": "https://localhost:8080/"
        }
      },
      "source": [
        "coordenadas = [(23, 67), (45, 80), (22,11)] #Podemos crear una lista de tuplas\n",
        "print(coordenadas[0:])\n",
        "coordenadas[1] = (4, 4) #En este caso si podemos modificar las entradas porque se trata de una lista\n",
        "print(coordenadas[0:])"
      ],
      "execution_count": null,
      "outputs": [
        {
          "output_type": "stream",
          "text": [
            "[(23, 67), (45, 80), (22, 11)]\n",
            "[(23, 67), (4, 4), (22, 11)]\n"
          ],
          "name": "stdout"
        }
      ]
    },
    {
      "cell_type": "markdown",
      "metadata": {
        "id": "2FifNb9oNIkk"
      },
      "source": [
        "**FUNCIONES**"
      ]
    },
    {
      "cell_type": "code",
      "metadata": {
        "id": "juCp5ETPNMWf",
        "outputId": "395792d1-314f-43d0-81ba-be19e88c838e",
        "colab": {
          "base_uri": "https://localhost:8080/"
        }
      },
      "source": [
        "def Hola():\n",
        "  print(\"Hello user\")\n",
        "\n",
        "Hola()"
      ],
      "execution_count": null,
      "outputs": [
        {
          "output_type": "stream",
          "text": [
            "Hello user\n"
          ],
          "name": "stdout"
        }
      ]
    },
    {
      "cell_type": "code",
      "metadata": {
        "id": "t_cHiDoIRSLK",
        "outputId": "7f90680b-edc5-475b-c1ed-e7db97d255a5",
        "colab": {
          "base_uri": "https://localhost:8080/"
        }
      },
      "source": [
        "def Hola(name):\n",
        "  print(\"Hello \" + name)\n",
        "\n",
        "def User():\n",
        "  name = input(\"Bienvenido, dime tu nombre\\n\")\n",
        "  return name\n",
        "\n",
        "Hola(User())"
      ],
      "execution_count": null,
      "outputs": [
        {
          "output_type": "stream",
          "text": [
            "Bienvenido, dime tu nombre\n",
            "Javier\n",
            "Hello Javier\n"
          ],
          "name": "stdout"
        }
      ]
    },
    {
      "cell_type": "code",
      "metadata": {
        "id": "I05054wNSTXZ",
        "outputId": "ce202b2d-4515-499a-ad28-22ec90412bd9",
        "colab": {
          "base_uri": "https://localhost:8080/"
        }
      },
      "source": [
        "def Hola(name, age):\n",
        "  print(\"Hola \" + name + \", tienes \" + age)\n",
        "\n",
        "def Name():\n",
        "  name = input(\"Dime tu nombre\\n\")\n",
        "  return name\n",
        "\n",
        "def Age():\n",
        "  age = input(\"Dime tu edad\\n\")\n",
        "  return age\n",
        "\n",
        "Hola(Name(), Age())"
      ],
      "execution_count": null,
      "outputs": [
        {
          "output_type": "stream",
          "text": [
            "Dime tu nombre\n",
            "Javier\n",
            "Dime tu edad\n",
            "32\n",
            "Hola Javier, tienes 32\n"
          ],
          "name": "stdout"
        }
      ]
    },
    {
      "cell_type": "markdown",
      "metadata": {
        "id": "mLVo7E_0Jk9C"
      },
      "source": [
        "**IF**"
      ]
    },
    {
      "cell_type": "code",
      "metadata": {
        "id": "UwF5fwBYJp4N",
        "outputId": "cedaa745-644a-4c0c-9728-85c631e14b21",
        "colab": {
          "base_uri": "https://localhost:8080/"
        }
      },
      "source": [
        "a = 1\n",
        "b = 0.5\n",
        "c = 24\n",
        "if a < b:\n",
        "  print(\"a es menor que b\")\n",
        "\n",
        "if a < b and a < c:\n",
        "  print(\"a es menor que b y menor que c\")\n",
        "\n",
        "if b > a and b < c:\n",
        "  print(\"b puede ser cualquier numero mayor que a o menor que c\")\n",
        "elif b == 0:\n",
        "  print(\"b es 0\")\n",
        "else:\n",
        "  print(\"b no esta entre a y c y tampoco es 0\")\n",
        "\n",
        "if not (a > b) and not (c > b):\n",
        "  print(\"a y c son menor que b\")\n",
        "\n"
      ],
      "execution_count": null,
      "outputs": [
        {
          "output_type": "stream",
          "text": [
            "b no esta entre a y c y tampoco es 0\n"
          ],
          "name": "stdout"
        }
      ]
    },
    {
      "cell_type": "code",
      "metadata": {
        "id": "-j3oizi-S_Kb"
      },
      "source": [
        "def max_num(num1, num2, num3):\n",
        "  if num1 >= num2 and num1 >= num3:\n",
        "    return num1\n",
        "  elif num2 >= num1 and num2 >= num3:\n",
        "    return num2\n",
        "  else:\n",
        "    return num3\n",
        "\n",
        "max = max_num(float(input(\"Numero1: \")), float(input(\"Numero2: \")), float(input(\"Numero3: \")))\n",
        "print(\"El numero mayor es \" + str(max))"
      ],
      "execution_count": null,
      "outputs": []
    },
    {
      "cell_type": "markdown",
      "metadata": {
        "id": "dnsV_9duvu88"
      },
      "source": [
        "**DICCIONARIOS**"
      ]
    },
    {
      "cell_type": "code",
      "metadata": {
        "id": "tBMAl9SVv5NH",
        "outputId": "632c19f9-1879-48b8-e0b6-aceb16e25802",
        "colab": {
          "base_uri": "https://localhost:8080/"
        }
      },
      "source": [
        "traductorMeses = { #De esta forma se define un Diccinario\n",
        "    \"January\":\"Enero\",\n",
        "    \"February\":\"Febrero\",\n",
        "    \"March\":\"Marzo\",\n",
        "    \"April\":\"Abril\",\n",
        "    \"May\":\"Mayo\",\n",
        "    \"June\":\"Junio\",\n",
        "    \"July\":\"Julio\",\n",
        "    \"August\":\"Agosto\",\n",
        "    \"September\":\"Septiembre\",\n",
        "    \"October\":\"Octubre\",\n",
        "    \"November\":\"Noviembre\",\n",
        "    \"December\":\"Diciembre\",\n",
        "}\n",
        "\n",
        "print(traductorMeses[\"November\"]) #De esta forma se llamma al diccionario"
      ],
      "execution_count": 3,
      "outputs": [
        {
          "output_type": "stream",
          "text": [
            "Noviembre\n"
          ],
          "name": "stdout"
        }
      ]
    },
    {
      "cell_type": "code",
      "metadata": {
        "id": "KVh7Os3zv8Ku"
      },
      "source": [
        ""
      ],
      "execution_count": null,
      "outputs": []
    }
  ]
}