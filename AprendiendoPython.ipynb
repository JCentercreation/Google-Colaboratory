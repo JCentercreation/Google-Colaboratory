{
  "nbformat": 4,
  "nbformat_minor": 0,
  "metadata": {
    "colab": {
      "name": "AprendiendoPython.ipynb",
      "provenance": [],
      "collapsed_sections": [],
      "authorship_tag": "ABX9TyNDGcXHZh+v87BlN9pKd7UY",
      "include_colab_link": true
    },
    "kernelspec": {
      "name": "python3",
      "display_name": "Python 3"
    }
  },
  "cells": [
    {
      "cell_type": "markdown",
      "metadata": {
        "id": "view-in-github",
        "colab_type": "text"
      },
      "source": [
        "<a href=\"https://colab.research.google.com/github/JCentercreation/Google-Colaboratory/blob/main/AprendiendoPython.ipynb\" target=\"_parent\"><img src=\"https://colab.research.google.com/assets/colab-badge.svg\" alt=\"Open In Colab\"/></a>"
      ]
    },
    {
      "cell_type": "markdown",
      "metadata": {
        "id": "Q13u1SVPlqQb"
      },
      "source": [
        "**DECLARACION DE VARIABLES**\n",
        "En Python no es necesario definir el tipo de variable \n",
        "que se trata pues Python le asignara automaticamente un tipo. Lo unico que tenemos que tener en cuenta es que las cadenas de caracteres deben de definirse entre comillas (\" \" o ` ').\n"
      ]
    },
    {
      "cell_type": "markdown",
      "metadata": {
        "id": "A7zQXwwGnXFg"
      },
      "source": [
        "No obstante, en cocasiones puede ser conveniente especificar el tipo de variable:\n"
      ]
    },
    {
      "cell_type": "code",
      "metadata": {
        "id": "7uNQAA_Dkbji",
        "outputId": "3be36c71-6490-4eb8-8fc1-6dd607b9f810",
        "colab": {
          "base_uri": "https://localhost:8080/"
        }
      },
      "source": [
        "a = 2\n",
        "b = 3\n",
        "c = a + b\n",
        "c"
      ],
      "execution_count": null,
      "outputs": [
        {
          "output_type": "execute_result",
          "data": {
            "text/plain": [
              "5"
            ]
          },
          "metadata": {
            "tags": []
          },
          "execution_count": 1
        }
      ]
    },
    {
      "cell_type": "markdown",
      "metadata": {
        "id": "uSrZudyyr1dz"
      },
      "source": [
        "**Aprende Python** - Curso completo para principiantes (freeCodeCamp.org) YOUTUBE"
      ]
    },
    {
      "cell_type": "code",
      "metadata": {
        "id": "FdVHrtFQrab0",
        "outputId": "1b14e741-0e30-4c3a-ccf1-59a8cf42c272",
        "colab": {
          "base_uri": "https://localhost:8080/"
        }
      },
      "source": [
        "print(\"Hello World\")"
      ],
      "execution_count": null,
      "outputs": [
        {
          "output_type": "stream",
          "text": [
            "Hello World\n"
          ],
          "name": "stdout"
        }
      ]
    },
    {
      "cell_type": "code",
      "metadata": {
        "id": "YeaiaEAxu3Dp",
        "outputId": "6fee1ea1-ad40-4aaa-b49b-dcf9941c239c",
        "colab": {
          "base_uri": "https://localhost:8080/"
        }
      },
      "source": [
        "name = \"Javi\"\n",
        "age = \"32\"\n",
        "male = True\n",
        "print(\"Hola mi nombre es \" + name + \" y tengo \" + age + \" años\")\n",
        "if male == True:\n",
        "  print(\"Soy un chico\")\n",
        "else:\n",
        "  print(\"Soy una chica\")"
      ],
      "execution_count": null,
      "outputs": [
        {
          "output_type": "stream",
          "text": [
            "Hola mi nombre es Javi y tengo 32 años\n",
            "Soy un chico\n"
          ],
          "name": "stdout"
        }
      ]
    },
    {
      "cell_type": "code",
      "metadata": {
        "id": "bFLU8wR4Su51",
        "outputId": "1c22ad81-cac3-4561-8427-f2560258f3e5",
        "colab": {
          "base_uri": "https://localhost:8080/"
        }
      },
      "source": [
        "print(\"Probando el salto\\ndelinea\")"
      ],
      "execution_count": null,
      "outputs": [
        {
          "output_type": "stream",
          "text": [
            "Probando el salto\n",
            "delinea\n"
          ],
          "name": "stdout"
        }
      ]
    },
    {
      "cell_type": "code",
      "metadata": {
        "id": "EAAbZlFAS5F1",
        "outputId": "49a42455-3a69-4908-837d-d87c49551334",
        "colab": {
          "base_uri": "https://localhost:8080/"
        }
      },
      "source": [
        "print(\"Probando introduccion de \\\"comillas\\\" como texto\")"
      ],
      "execution_count": null,
      "outputs": [
        {
          "output_type": "stream",
          "text": [
            "Probando introduccion de \"comillas\" como texto\n"
          ],
          "name": "stdout"
        }
      ]
    },
    {
      "cell_type": "code",
      "metadata": {
        "id": "kdb_NLLJTWi5",
        "outputId": "8c51badc-7973-4ad7-8276-423bd7697901",
        "colab": {
          "base_uri": "https://localhost:8080/",
          "height": 477
        }
      },
      "source": [
        "phrase = \"Javier\"\n",
        "print(phrase + \" es guay\")\n",
        "print(phrase.lower())\n",
        "print(phrase.upper())\n",
        "print(phrase.isupper())\n",
        "phrase2 = \"MARTA\"\n",
        "print(phrase2.isupper())\n",
        "print(phrase2.lower().islower())\n",
        "print(len(phrase2))\n",
        "len(phrase)\n",
        "print(phrase[0])\n",
        "print(phrase[1])\n",
        "print(phrase[2])\n",
        "print(phrase[3])\n",
        "print(phrase[4])\n",
        "print(phrase[5])\n",
        "print(phrase.index(\"J\"))\n",
        "print(phrase.index(\"a\"))\n",
        "print(phrase.index(\"j\")) #esto nos dara error porque distungue entre mayus y minus\n",
        "print(phrase.index(\"ier\"))"
      ],
      "execution_count": null,
      "outputs": [
        {
          "output_type": "stream",
          "text": [
            "Javier es guay\n",
            "javier\n",
            "JAVIER\n",
            "False\n",
            "True\n",
            "True\n",
            "5\n",
            "J\n",
            "a\n",
            "v\n",
            "i\n",
            "e\n",
            "r\n",
            "0\n",
            "1\n"
          ],
          "name": "stdout"
        },
        {
          "output_type": "error",
          "ename": "ValueError",
          "evalue": "ignored",
          "traceback": [
            "\u001b[0;31m---------------------------------------------------------------------------\u001b[0m",
            "\u001b[0;31mValueError\u001b[0m                                Traceback (most recent call last)",
            "\u001b[0;32m<ipython-input-25-f18bc8b4f725>\u001b[0m in \u001b[0;36m<module>\u001b[0;34m()\u001b[0m\n\u001b[1;32m     17\u001b[0m \u001b[0mprint\u001b[0m\u001b[0;34m(\u001b[0m\u001b[0mphrase\u001b[0m\u001b[0;34m.\u001b[0m\u001b[0mindex\u001b[0m\u001b[0;34m(\u001b[0m\u001b[0;34m\"J\"\u001b[0m\u001b[0;34m)\u001b[0m\u001b[0;34m)\u001b[0m\u001b[0;34m\u001b[0m\u001b[0;34m\u001b[0m\u001b[0m\n\u001b[1;32m     18\u001b[0m \u001b[0mprint\u001b[0m\u001b[0;34m(\u001b[0m\u001b[0mphrase\u001b[0m\u001b[0;34m.\u001b[0m\u001b[0mindex\u001b[0m\u001b[0;34m(\u001b[0m\u001b[0;34m\"a\"\u001b[0m\u001b[0;34m)\u001b[0m\u001b[0;34m)\u001b[0m\u001b[0;34m\u001b[0m\u001b[0;34m\u001b[0m\u001b[0m\n\u001b[0;32m---> 19\u001b[0;31m \u001b[0mprint\u001b[0m\u001b[0;34m(\u001b[0m\u001b[0mphrase\u001b[0m\u001b[0;34m.\u001b[0m\u001b[0mindex\u001b[0m\u001b[0;34m(\u001b[0m\u001b[0;34m\"j\"\u001b[0m\u001b[0;34m)\u001b[0m\u001b[0;34m)\u001b[0m \u001b[0;31m#esto nos dara error porque distungue entre mayus y minus\u001b[0m\u001b[0;34m\u001b[0m\u001b[0;34m\u001b[0m\u001b[0m\n\u001b[0m",
            "\u001b[0;31mValueError\u001b[0m: substring not found"
          ]
        }
      ]
    },
    {
      "cell_type": "code",
      "metadata": {
        "id": "3fgPlYizWKTW",
        "outputId": "5d97f8b1-df83-4158-e2d9-075c19ac5225",
        "colab": {
          "base_uri": "https://localhost:8080/"
        }
      },
      "source": [
        "phrase = \"Javier\"\n",
        "print(phrase.index(\"ier\")) #esto devolvera 3 pues \"ier\" comienza en la posicion 3 de la cadena de caracteres"
      ],
      "execution_count": 29,
      "outputs": [
        {
          "output_type": "stream",
          "text": [
            "3\n"
          ],
          "name": "stdout"
        }
      ]
    },
    {
      "cell_type": "code",
      "metadata": {
        "id": "I4vISvxnjLI_",
        "outputId": "fb2afdcb-097f-42da-815c-6d29ad51512f",
        "colab": {
          "base_uri": "https://localhost:8080/"
        }
      },
      "source": [
        "phrase = \"Javier es guay\"\n",
        "print(phrase.replace(\"Javier\", \"Pepe\"))\n",
        "phrase = \"Pxtxtx\"\n",
        "print(phrase.replace(\"x\", \"a\"))"
      ],
      "execution_count": 35,
      "outputs": [
        {
          "output_type": "stream",
          "text": [
            "Pepe es guay\n",
            "Patata\n"
          ],
          "name": "stdout"
        }
      ]
    },
    {
      "cell_type": "code",
      "metadata": {
        "id": "FpZwvkYerIVj",
        "outputId": "a4c7fbf3-c4d7-474c-b03a-bbf6484954d5",
        "colab": {
          "base_uri": "https://localhost:8080/"
        }
      },
      "source": [
        "print(10 % 3) #El operando % nos devuelve el resto de una division"
      ],
      "execution_count": 36,
      "outputs": [
        {
          "output_type": "stream",
          "text": [
            "1\n"
          ],
          "name": "stdout"
        }
      ]
    },
    {
      "cell_type": "code",
      "metadata": {
        "id": "J3R1YX_WrwSf",
        "outputId": "7563e38e-65ea-4e49-889d-45a015036d27",
        "colab": {
          "base_uri": "https://localhost:8080/",
          "height": 189
        }
      },
      "source": [
        "num = 5\n",
        "print(num + \"es mi numero favorito\") #esto va a dar error porque las concatenaciones se tienen que realizar dntre variables de tipo string, y num no es una string"
      ],
      "execution_count": 38,
      "outputs": [
        {
          "output_type": "error",
          "ename": "TypeError",
          "evalue": "ignored",
          "traceback": [
            "\u001b[0;31m---------------------------------------------------------------------------\u001b[0m",
            "\u001b[0;31mTypeError\u001b[0m                                 Traceback (most recent call last)",
            "\u001b[0;32m<ipython-input-38-7c8dc1c36c2d>\u001b[0m in \u001b[0;36m<module>\u001b[0;34m()\u001b[0m\n\u001b[1;32m      1\u001b[0m \u001b[0mnum\u001b[0m \u001b[0;34m=\u001b[0m \u001b[0;36m5\u001b[0m\u001b[0;34m\u001b[0m\u001b[0;34m\u001b[0m\u001b[0m\n\u001b[0;32m----> 2\u001b[0;31m \u001b[0mprint\u001b[0m\u001b[0;34m(\u001b[0m\u001b[0mnum\u001b[0m \u001b[0;34m+\u001b[0m \u001b[0;34m\"es mi numero favorito\"\u001b[0m\u001b[0;34m)\u001b[0m\u001b[0;34m\u001b[0m\u001b[0;34m\u001b[0m\u001b[0m\n\u001b[0m",
            "\u001b[0;31mTypeError\u001b[0m: unsupported operand type(s) for +: 'int' and 'str'"
          ]
        }
      ]
    },
    {
      "cell_type": "code",
      "metadata": {
        "id": "s5ZZmEwBsIjV",
        "outputId": "061ec7a2-cac2-49c3-d814-603994cf5938",
        "colab": {
          "base_uri": "https://localhost:8080/"
        }
      },
      "source": [
        "num = -5\n",
        "print(str(num) + \" es mi numero favorito\")\n",
        "print(abs(num))\n",
        "print(pow(num, 2))\n",
        "print(pow(num, 3))\n",
        "print(max(num, 3))\n",
        "print(min(num, 3))\n",
        "num = 3.897\n",
        "print(round(num))\n",
        "print(round(2.112))"
      ],
      "execution_count": 48,
      "outputs": [
        {
          "output_type": "stream",
          "text": [
            "-5 es mi numero favorito\n",
            "5\n",
            "25\n",
            "-125\n",
            "3\n",
            "-5\n",
            "4\n",
            "2\n"
          ],
          "name": "stdout"
        }
      ]
    },
    {
      "cell_type": "code",
      "metadata": {
        "id": "8MOfvHImvNFU",
        "outputId": "e1656c03-3f57-4a89-bcb1-b9bd2cfe44d6",
        "colab": {
          "base_uri": "https://localhost:8080/"
        }
      },
      "source": [
        "from math import * #de esta forma se importa la biblioteca \"math\" (funciones matematicas)\n",
        "\n",
        "num = 3.8\n",
        "print(floor(num)) #esta funcion elimina los decimales, pero no redondea\n",
        "print(ceil(num)) #esta funcion elimina los decimales pero redondeando hacia arriba siempre\n",
        "print(ceil(3.01))\n",
        "print(ceil(-2.9))\n",
        "print(sqrt(25))"
      ],
      "execution_count": 57,
      "outputs": [
        {
          "output_type": "stream",
          "text": [
            "3\n",
            "4\n",
            "4\n",
            "-2\n",
            "5.0\n"
          ],
          "name": "stdout"
        }
      ]
    }
  ]
}